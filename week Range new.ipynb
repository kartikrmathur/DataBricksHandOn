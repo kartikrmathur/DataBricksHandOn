{
 "cells": [
  {
   "cell_type": "code",
   "execution_count": 1,
   "id": "d97a829b",
   "metadata": {},
   "outputs": [],
   "source": [
    "import pyspark\n",
    "import pyspark.sql.functions as fn\n",
    "import pyspark.sql.types as T\n",
    "from pyspark.sql import Window\n",
    "from pyspark.sql import SparkSession"
   ]
  },
  {
   "cell_type": "code",
   "execution_count": 2,
   "id": "3d763b98",
   "metadata": {},
   "outputs": [
    {
     "name": "stdout",
     "output_type": "stream",
     "text": [
      "+----+----+-------+\n",
      "|year|week|channel|\n",
      "+----+----+-------+\n",
      "|2020|   1| Colors|\n",
      "|2020|   2| Colors|\n",
      "|2020|   3| Colors|\n",
      "|2020|   4| Colors|\n",
      "|2020|   5| Colors|\n",
      "|2020|   6| Colors|\n",
      "|2020|   7| Colors|\n",
      "|2020|   8| Colors|\n",
      "+----+----+-------+\n",
      "\n",
      "root\n",
      " |-- year: long (nullable = true)\n",
      " |-- week: long (nullable = true)\n",
      " |-- channel: string (nullable = true)\n",
      "\n",
      "+----+----+-------+\n",
      "|year|week|channel|\n",
      "+----+----+-------+\n",
      "|2020|1   |Colors |\n",
      "|2020|2   |Colors |\n",
      "|2020|3   |Colors |\n",
      "|2020|4   |Colors |\n",
      "|2020|5   |Colors |\n",
      "|2020|6   |Colors |\n",
      "|2020|7   |Colors |\n",
      "|2020|8   |Colors |\n",
      "+----+----+-------+\n",
      "\n"
     ]
    }
   ],
   "source": [
    "spark = SparkSession.builder.getOrCreate()\n",
    "#demonstration DataFrame to workOn\n",
    "l = [\n",
    "(2020,1,\"Colors\"),(2020,2,\"Colors\"),(2020,3,\"Colors\"),(2020,4,\"Colors\"),\n",
    "(2020,5,\"Colors\"),(2020,6,\"Colors\"),(2020,7,\"Colors\"),(2020,8,\"Colors\"),\n",
    "    ]\n",
    "df = spark.createDataFrame(l, schema=[\"year\",\"week\",\"channel\"])\n",
    "df.show()\n",
    "df.printSchema()\n",
    "df.show(truncate=False)"
   ]
  },
  {
   "cell_type": "code",
   "execution_count": 3,
   "id": "10308dcc",
   "metadata": {},
   "outputs": [
    {
     "name": "stdout",
     "output_type": "stream",
     "text": [
      "+----+----+-------+----------+\n",
      "|year|week|channel|week_range|\n",
      "+----+----+-------+----------+\n",
      "|2020|   7| Colors|         1|\n",
      "|2020|   6| Colors|         1|\n",
      "|2020|   5| Colors|         1|\n",
      "|2020|   1| Colors|         1|\n",
      "|2020|   3| Colors|         1|\n",
      "|2020|   8| Colors|         1|\n",
      "|2020|   2| Colors|         1|\n",
      "|2020|   4| Colors|         1|\n",
      "+----+----+-------+----------+\n",
      "\n"
     ]
    }
   ],
   "source": [
    "from pyspark.sql.functions import row_number\n",
    "df_rn  = Window.partitionBy(\"week\").orderBy(\"week\")\n",
    " \n",
    "df.withColumn(\"week_range\",row_number().over(df_rn)).show()"
   ]
  },
  {
   "cell_type": "code",
   "execution_count": 4,
   "id": "fffbe515",
   "metadata": {},
   "outputs": [],
   "source": [
    "def w_week_range(part_week):\n",
    "    if part_week == 1:\n",
    "        return 4\n",
    "    if part_week == 2:\n",
    "        return 4\n",
    "    if part_week == 3:\n",
    "        return 4\n",
    "    if part_week == 4:\n",
    "        return 4\n",
    "    if part_week == 5:\n",
    "        return 6\n",
    "    if part_week == 6:\n",
    "        return 6\n",
    "    if part_week == 7:\n",
    "        return 8\n",
    "    if part_week == 8:\n",
    "        return 8\n",
    "    else:\n",
    "        return None"
   ]
  },
  {
   "cell_type": "code",
   "execution_count": 6,
   "id": "fbb9e8da",
   "metadata": {},
   "outputs": [
    {
     "ename": "NameError",
     "evalue": "name 'FloatType' is not defined",
     "output_type": "error",
     "traceback": [
      "\u001b[1;31m---------------------------------------------------------------------------\u001b[0m",
      "\u001b[1;31mNameError\u001b[0m                                 Traceback (most recent call last)",
      "\u001b[1;32m<ipython-input-6-9193c93606f2>\u001b[0m in \u001b[0;36m<module>\u001b[1;34m\u001b[0m\n\u001b[0;32m      1\u001b[0m \u001b[1;32mfrom\u001b[0m \u001b[0mpyspark\u001b[0m\u001b[1;33m.\u001b[0m\u001b[0msql\u001b[0m\u001b[1;33m.\u001b[0m\u001b[0mfunctions\u001b[0m \u001b[1;32mimport\u001b[0m \u001b[0mudf\u001b[0m\u001b[1;33m,\u001b[0m \u001b[0mlog\u001b[0m\u001b[1;33m\u001b[0m\u001b[1;33m\u001b[0m\u001b[0m\n\u001b[1;32m----> 2\u001b[1;33m \u001b[0mtest_udf\u001b[0m \u001b[1;33m=\u001b[0m \u001b[0mudf\u001b[0m\u001b[1;33m(\u001b[0m\u001b[1;32mlambda\u001b[0m \u001b[0mweek\u001b[0m \u001b[1;33m:\u001b[0m \u001b[0mfloat\u001b[0m\u001b[1;33m(\u001b[0m\u001b[0mweek\u001b[0m\u001b[1;33m[\u001b[0m\u001b[1;36m1\u001b[0m\u001b[1;33m]\u001b[0m\u001b[1;33m)\u001b[0m\u001b[1;33m,\u001b[0m \u001b[0mFloatType\u001b[0m\u001b[1;33m(\u001b[0m\u001b[1;33m)\u001b[0m\u001b[1;33m)\u001b[0m\u001b[1;33m\u001b[0m\u001b[1;33m\u001b[0m\u001b[0m\n\u001b[0m\u001b[0;32m      3\u001b[0m \u001b[0md\u001b[0m \u001b[1;33m=\u001b[0m \u001b[0mdf\u001b[0m\u001b[1;33m.\u001b[0m\u001b[0mwithColumn\u001b[0m\u001b[1;33m(\u001b[0m\u001b[1;34m\"new_col\"\u001b[0m\u001b[1;33m,\u001b[0m \u001b[0mtest_udf\u001b[0m\u001b[1;33m(\u001b[0m\u001b[0mdf\u001b[0m\u001b[1;33m[\u001b[0m\u001b[1;34m\"week\"\u001b[0m\u001b[1;33m]\u001b[0m\u001b[1;33m)\u001b[0m\u001b[1;33m)\u001b[0m\u001b[1;33m\u001b[0m\u001b[1;33m\u001b[0m\u001b[0m\n\u001b[0;32m      4\u001b[0m \u001b[0mdf\u001b[0m\u001b[1;33m.\u001b[0m\u001b[0mshow\u001b[0m\u001b[1;33m(\u001b[0m\u001b[1;33m)\u001b[0m\u001b[1;33m\u001b[0m\u001b[1;33m\u001b[0m\u001b[0m\n",
      "\u001b[1;31mNameError\u001b[0m: name 'FloatType' is not defined"
     ]
    }
   ],
   "source": [
    "from pyspark.sql.functions import udf, log\n",
    "test_udf = udf(lambda week : -float(week[1]), FloatType())\n",
    "d = df.withColumn(\"new_col\", test_udf(df[\"week\"]))\n",
    "df.show()"
   ]
  },
  {
   "cell_type": "code",
   "execution_count": null,
   "id": "ac4e298b",
   "metadata": {},
   "outputs": [],
   "source": [
    "spark.udf.register(\"week_range\", w_week_range)\n",
    " \n",
    "week_udf = udf(w_week_range, LongType())\n",
    " \n",
    "spark.range(1,17).createOrReplaceTempView(\"test4\")\n",
    " \n",
    "week_df_r = spark.table(\"test4\")\n",
    " \n",
    "df_week_test = df_rn.withColumn(\"week_range\", week_udf(\"part_week\"))\n",
    "df_week_test.show()"
   ]
  },
  {
   "cell_type": "code",
   "execution_count": null,
   "id": "7b864204",
   "metadata": {},
   "outputs": [],
   "source": []
  }
 ],
 "metadata": {
  "kernelspec": {
   "display_name": "Python 3",
   "language": "python",
   "name": "python3"
  },
  "language_info": {
   "codemirror_mode": {
    "name": "ipython",
    "version": 3
   },
   "file_extension": ".py",
   "mimetype": "text/x-python",
   "name": "python",
   "nbconvert_exporter": "python",
   "pygments_lexer": "ipython3",
   "version": "3.8.8"
  }
 },
 "nbformat": 4,
 "nbformat_minor": 5
}

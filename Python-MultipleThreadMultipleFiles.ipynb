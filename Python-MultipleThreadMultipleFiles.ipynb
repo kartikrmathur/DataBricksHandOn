{
 "cells": [
  {
   "cell_type": "code",
   "execution_count": 1,
   "id": "2965e427",
   "metadata": {},
   "outputs": [],
   "source": [
    "import pandas as pd\n",
    "import pandasql as ps\n",
    "import threading\n",
    "import sqlite3"
   ]
  },
  {
   "cell_type": "code",
   "execution_count": 2,
   "id": "2b2ebd59",
   "metadata": {},
   "outputs": [],
   "source": [
    "# initialize data of lists.\n",
    "d1 = {'Name':['Tom', 'nick', 'krish', 'jack'],\n",
    "\t\t'Age':[20, 21, 19, 18]}\n",
    "d2 = {'Name':['Tom2', 'nick2', 'krish2', 'jack2'],\n",
    "\t\t'Age':[21, 22, 20, 19]}\n",
    "d3 = {'Name':['Tom3', 'nick3', 'krish3', 'jack3'],\n",
    "\t\t'Age':[22, 23, 21, 20]}\n",
    "d4 = {'Name':['Tom4', 'nick4', 'krish4', 'jack4'],\n",
    "\t\t'Age':[23, 24, 22, 21]}\n",
    "d5 = {'Name':['Tom5', 'nick5', 'krish5', 'jack5'],\n",
    "\t\t'Age':[24, 25, 23, 22]}"
   ]
  },
  {
   "cell_type": "code",
   "execution_count": 3,
   "id": "bff5ad6a",
   "metadata": {},
   "outputs": [],
   "source": [
    "# Create DataFrame\n",
    "df1 = pd.DataFrame(d1)\n",
    "df2 = pd.DataFrame(d2)\n",
    "df3 = pd.DataFrame(d3)\n",
    "df4 = pd.DataFrame(d4)\n",
    "df5 = pd.DataFrame(d5)"
   ]
  },
  {
   "cell_type": "code",
   "execution_count": 4,
   "id": "ce92a621",
   "metadata": {},
   "outputs": [
    {
     "data": {
      "text/plain": [
       "(    Name  Age\n",
       " 0    Tom   20\n",
       " 1   nick   21\n",
       " 2  krish   19\n",
       " 3   jack   18,\n",
       "      Name  Age\n",
       " 0    Tom2   21\n",
       " 1   nick2   22\n",
       " 2  krish2   20\n",
       " 3   jack2   19,\n",
       "      Name  Age\n",
       " 0    Tom3   22\n",
       " 1   nick3   23\n",
       " 2  krish3   21\n",
       " 3   jack3   20,\n",
       "      Name  Age\n",
       " 0    Tom4   23\n",
       " 1   nick4   24\n",
       " 2  krish4   22\n",
       " 3   jack4   21,\n",
       "      Name  Age\n",
       " 0    Tom5   24\n",
       " 1   nick5   25\n",
       " 2  krish5   23\n",
       " 3   jack5   22)"
      ]
     },
     "execution_count": 4,
     "metadata": {},
     "output_type": "execute_result"
    }
   ],
   "source": [
    "# Print the output.\n",
    "df1,df2,df3,df4,df5"
   ]
  },
  {
   "cell_type": "code",
   "execution_count": 5,
   "id": "303fb111",
   "metadata": {},
   "outputs": [],
   "source": [
    "if __name__ == \"__main__\":\n",
    "    \n",
    "#creating 5 Thread\n",
    "    t1 = threading.Thread(target=df1)\n",
    "    t2 = threading.Thread(target=df2)\n",
    "    t3 = threading.Thread(target=df3)\n",
    "    t4 = threading.Thread(target=df4)\n",
    "    t5 = threading.Thread(target=df5)"
   ]
  },
  {
   "cell_type": "code",
   "execution_count": 6,
   "id": "bd9bf2ac",
   "metadata": {},
   "outputs": [
    {
     "name": "stderr",
     "output_type": "stream",
     "text": [
      "Exception in thread Thread-6:\n",
      "Traceback (most recent call last):\n",
      "  File \"C:\\ProgramData\\Anaconda3\\lib\\threading.py\", line 932, in _bootstrap_inner\n",
      "Exception in thread Thread-7:\n",
      "Traceback (most recent call last):\n",
      "  File \"C:\\ProgramData\\Anaconda3\\lib\\threading.py\", line 932, in _bootstrap_inner\n",
      "Exception in thread Thread-8:\n",
      "Traceback (most recent call last):\n",
      "  File \"C:\\ProgramData\\Anaconda3\\lib\\threading.py\", line 932, in _bootstrap_inner\n",
      "Exception in thread Thread-9:\n",
      "Traceback (most recent call last):\n",
      "  File \"C:\\ProgramData\\Anaconda3\\lib\\threading.py\", line 932, in _bootstrap_inner\n",
      "    self.run()\n",
      "  File \"C:\\ProgramData\\Anaconda3\\lib\\threading.py\", line 869, in run\n",
      "    Exception in thread Thread-10:\n",
      "Traceback (most recent call last):\n",
      "  File \"C:\\ProgramData\\Anaconda3\\lib\\threading.py\", line 932, in _bootstrap_inner\n",
      "self.run()    \n",
      "  File \"C:\\ProgramData\\Anaconda3\\lib\\threading.py\", line 869, in run\n",
      "self.run()\n",
      "  File \"C:\\ProgramData\\Anaconda3\\lib\\threading.py\", line 869, in run\n",
      "    self.run()\n",
      "  File \"C:\\ProgramData\\Anaconda3\\lib\\threading.py\", line 869, in run\n",
      "    self.run()\n",
      "  File \"C:\\ProgramData\\Anaconda3\\lib\\threading.py\", line 869, in run\n",
      "            if self._target:\n",
      "  File \"C:\\ProgramData\\Anaconda3\\lib\\site-packages\\pandas\\core\\generic.py\", line 1442, in __nonzero__\n",
      "if self._target:\n",
      "  File \"C:\\ProgramData\\Anaconda3\\lib\\site-packages\\pandas\\core\\generic.py\", line 1442, in __nonzero__\n",
      "if self._target:\n",
      "  File \"C:\\ProgramData\\Anaconda3\\lib\\site-packages\\pandas\\core\\generic.py\", line 1442, in __nonzero__\n",
      "    if self._target:\n",
      "  File \"C:\\ProgramData\\Anaconda3\\lib\\site-packages\\pandas\\core\\generic.py\", line 1442, in __nonzero__\n",
      "    if self._target:\n",
      "  File \"C:\\ProgramData\\Anaconda3\\lib\\site-packages\\pandas\\core\\generic.py\", line 1442, in __nonzero__\n",
      "    raise ValueError(\n",
      "ValueError: The truth value of a DataFrame is ambiguous. Use a.empty, a.bool(), a.item(), a.any() or a.all().\n",
      "    raise ValueError(\n",
      "ValueError: The truth value of a DataFrame is ambiguous. Use a.empty, a.bool(), a.item(), a.any() or a.all().\n",
      "        raise ValueError(\n",
      "ValueError: The truth value of a DataFrame is ambiguous. Use a.empty, a.bool(), a.item(), a.any() or a.all().\n",
      "raise ValueError(\n",
      "ValueError: The truth value of a DataFrame is ambiguous. Use a.empty, a.bool(), a.item(), a.any() or a.all().\n",
      "    raise ValueError(\n",
      "ValueError: The truth value of a DataFrame is ambiguous. Use a.empty, a.bool(), a.item(), a.any() or a.all().\n"
     ]
    }
   ],
   "source": [
    "#starting 5 thread\n",
    "t1.start()\n",
    "t2.start()\n",
    "t3.start()\n",
    "t4.start()\n",
    "t5.start()"
   ]
  },
  {
   "cell_type": "code",
   "execution_count": 7,
   "id": "91013338",
   "metadata": {},
   "outputs": [],
   "source": [
    "#waiting till respective thread execute\n",
    "t1.join()\n",
    "t2.join()\n",
    "t3.join()\n",
    "t4.join()\n",
    "t5.join()"
   ]
  },
  {
   "cell_type": "code",
   "execution_count": 8,
   "id": "d30c598f",
   "metadata": {},
   "outputs": [],
   "source": [
    "# ps.sqldf(\"INSERT_INTO t1,t2,t3,t4,t5(Name, Age)\n",
    "#          VALUES(Boy,20)\");"
   ]
  },
  {
   "cell_type": "code",
   "execution_count": 9,
   "id": "3de2f6f0",
   "metadata": {},
   "outputs": [],
   "source": [
    "sqliteConnection = sqlite3.connect('multithreading.db')"
   ]
  },
  {
   "cell_type": "code",
   "execution_count": 10,
   "id": "194780a1",
   "metadata": {},
   "outputs": [],
   "source": [
    "cursor = sqliteConnection.cursor()\n"
   ]
  },
  {
   "cell_type": "code",
   "execution_count": 11,
   "id": "e15a5abd",
   "metadata": {},
   "outputs": [
    {
     "name": "stdout",
     "output_type": "stream",
     "text": [
      "Connected to the database\n"
     ]
    }
   ],
   "source": [
    "print(\"Connected to the database\")"
   ]
  },
  {
   "cell_type": "code",
   "execution_count": 12,
   "id": "1515b0d4",
   "metadata": {},
   "outputs": [],
   "source": [
    "# SQL command to create a table in the database\n",
    "sql_command = \"\"\"CREATE TABLE emp ( \n",
    "staff_number INTEGER PRIMARY KEY, \n",
    "fname VARCHAR(20), \n",
    "lname VARCHAR(30), \n",
    "gender CHAR(1), \n",
    "joining DATE);\"\"\""
   ]
  },
  {
   "cell_type": "code",
   "execution_count": 13,
   "id": "f6a4d8b0",
   "metadata": {},
   "outputs": [
    {
     "ename": "OperationalError",
     "evalue": "table emp already exists",
     "output_type": "error",
     "traceback": [
      "\u001b[1;31m---------------------------------------------------------------------------\u001b[0m",
      "\u001b[1;31mOperationalError\u001b[0m                          Traceback (most recent call last)",
      "\u001b[1;32m<ipython-input-13-ae3a24d3d151>\u001b[0m in \u001b[0;36m<module>\u001b[1;34m\u001b[0m\n\u001b[0;32m      1\u001b[0m \u001b[1;31m# execute the statement\u001b[0m\u001b[1;33m\u001b[0m\u001b[1;33m\u001b[0m\u001b[1;33m\u001b[0m\u001b[0m\n\u001b[1;32m----> 2\u001b[1;33m \u001b[0mcursor\u001b[0m\u001b[1;33m.\u001b[0m\u001b[0mexecute\u001b[0m\u001b[1;33m(\u001b[0m\u001b[0msql_command\u001b[0m\u001b[1;33m)\u001b[0m\u001b[1;33m\u001b[0m\u001b[1;33m\u001b[0m\u001b[0m\n\u001b[0m",
      "\u001b[1;31mOperationalError\u001b[0m: table emp already exists"
     ]
    }
   ],
   "source": [
    "# execute the statement\n",
    "cursor.execute(sql_command)"
   ]
  },
  {
   "cell_type": "code",
   "execution_count": 17,
   "id": "664e4673",
   "metadata": {},
   "outputs": [
    {
     "ename": "NameError",
     "evalue": "name 'tables' is not defined",
     "output_type": "error",
     "traceback": [
      "\u001b[1;31m---------------------------------------------------------------------------\u001b[0m",
      "\u001b[1;31mNameError\u001b[0m                                 Traceback (most recent call last)",
      "\u001b[1;32m<ipython-input-17-ea4781dc526a>\u001b[0m in \u001b[0;36m<module>\u001b[1;34m\u001b[0m\n\u001b[1;32m----> 1\u001b[1;33m \u001b[0mtables\u001b[0m\u001b[1;33m\u001b[0m\u001b[1;33m\u001b[0m\u001b[0m\n\u001b[0m",
      "\u001b[1;31mNameError\u001b[0m: name 'tables' is not defined"
     ]
    }
   ],
   "source": []
  },
  {
   "cell_type": "code",
   "execution_count": null,
   "id": "ac65d34a",
   "metadata": {},
   "outputs": [],
   "source": []
  }
 ],
 "metadata": {
  "kernelspec": {
   "display_name": "Python 3",
   "language": "python",
   "name": "python3"
  },
  "language_info": {
   "codemirror_mode": {
    "name": "ipython",
    "version": 3
   },
   "file_extension": ".py",
   "mimetype": "text/x-python",
   "name": "python",
   "nbconvert_exporter": "python",
   "pygments_lexer": "ipython3",
   "version": "3.8.8"
  }
 },
 "nbformat": 4,
 "nbformat_minor": 5
}

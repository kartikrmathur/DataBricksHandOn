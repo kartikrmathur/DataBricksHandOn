{
 "cells": [
  {
   "cell_type": "code",
   "execution_count": 1,
   "id": "0ff4258a",
   "metadata": {},
   "outputs": [],
   "source": [
    "\n",
    "from pyspark.sql import SparkSession\n",
    "import pyspark.sql.functions as F\n",
    "import pyspark.sql.types as T\n",
    "from pyspark.sql import Window\n",
    "\n",
    "spark = SparkSession.builder.getOrCreate()"
   ]
  },
  {
   "cell_type": "code",
   "execution_count": 2,
   "id": "2ec792d8",
   "metadata": {},
   "outputs": [
    {
     "name": "stdout",
     "output_type": "stream",
     "text": [
      "+----+------+-------+\n",
      "|year|  week|channel|\n",
      "+----+------+-------+\n",
      "|2000|   red|      1|\n",
      "|2000| green|      2|\n",
      "|2000|  blue|      3|\n",
      "|2000|yellow|      4|\n",
      "|2000|   red|      5|\n",
      "|2001| green|      6|\n",
      "|2001|  blue|      7|\n",
      "|2002|yellow|      8|\n",
      "+----+------+-------+\n",
      "\n"
     ]
    }
   ],
   "source": [
    "l = [\n",
    "    (2000, \"red\", 1),\n",
    "    (2000, \"green\", 2),\n",
    "    (2000, \"blue\", 3),\n",
    "    (2000, \"yellow\", 4),\n",
    "    (2000, \"red\", 5),\n",
    "    (2001, \"green\", 6),\n",
    "    (2001, \"blue\", 7),\n",
    "    (2002, \"yellow\", 8),\n",
    "   \n",
    "]\n",
    "\n",
    "data = spark.createDataFrame(l, schema=[\"year\",\"week\",\"channel\"])\n",
    "data.show()"
   ]
  },
  {
   "cell_type": "code",
   "execution_count": 4,
   "id": "908563b8",
   "metadata": {},
   "outputs": [
    {
     "name": "stdout",
     "output_type": "stream",
     "text": [
      "+------+---------+----------+\n",
      "|colour|list_week|total_week|\n",
      "+------+---------+----------+\n",
      "| green|   [2, 6]|         8|\n",
      "|yellow|   [4, 8]|        12|\n",
      "|   red|   [1, 5]|         6|\n",
      "|  blue|   [3, 7]|        10|\n",
      "+------+---------+----------+\n",
      "\n"
     ]
    }
   ],
   "source": [
    "df = data.groupBy(\"colour\").agg(\n",
    "    F.expr(\"collect_list(week)\").alias(\"list_week\"),\n",
    "     F.expr(\"sum(week)\").alias(\"total_week\"),\n",
    "    \n",
    ")\n",
    "\n",
    "df.show()"
   ]
  },
  {
   "cell_type": "code",
   "execution_count": 5,
   "id": "10d7fdd9",
   "metadata": {},
   "outputs": [
    {
     "name": "stdout",
     "output_type": "stream",
     "text": [
      "+------------+------+----+----------+\n",
      "|channel year|colour|week|week_Range|\n",
      "+------------+------+----+----------+\n",
      "|        2001|  blue|   7|       [7]|\n",
      "|        2001| green|   6|       [6]|\n",
      "|        2000|   red|   5|       [5]|\n",
      "|        2000|   red|   1|       [1]|\n",
      "|        2000|  blue|   3|       [3]|\n",
      "|        2002|yellow|   8|       [8]|\n",
      "|        2000| green|   2|       [2]|\n",
      "|        2000|yellow|   4|       [4]|\n",
      "+------------+------+----+----------+\n",
      "\n"
     ]
    }
   ],
   "source": [
    "windowSpec = Window.partitionBy(\"week\")\n",
    "\n",
    "df = data.withColumn(\"week_Range\", F.collect_list(F.col(\"week\")).over(windowSpec))\n",
    "df.show()\n"
   ]
  },
  {
   "cell_type": "code",
   "execution_count": 6,
   "id": "30beae4c",
   "metadata": {},
   "outputs": [
    {
     "name": "stdout",
     "output_type": "stream",
     "text": [
      "+----+-----------------+---------+\n",
      "|week|avg(channel year)|avg(week)|\n",
      "+----+-----------------+---------+\n",
      "|   7|           2001.0|      7.0|\n",
      "|   6|           2001.0|      6.0|\n",
      "|   5|           2000.0|      5.0|\n",
      "|   1|           2000.0|      1.0|\n",
      "|   3|           2000.0|      3.0|\n",
      "|   8|           2002.0|      8.0|\n",
      "|   2|           2000.0|      2.0|\n",
      "|   4|           2000.0|      4.0|\n",
      "+----+-----------------+---------+\n",
      "\n"
     ]
    }
   ],
   "source": [
    "df.groupby('week').avg().show()"
   ]
  },
  {
   "cell_type": "code",
   "execution_count": 1,
   "id": "963608a9",
   "metadata": {},
   "outputs": [
    {
     "ename": "NameError",
     "evalue": "name 'thislist' is not defined",
     "output_type": "error",
     "traceback": [
      "\u001b[1;31m---------------------------------------------------------------------------\u001b[0m",
      "\u001b[1;31mNameError\u001b[0m                                 Traceback (most recent call last)",
      "\u001b[1;32m<ipython-input-1-5eb5188d36e0>\u001b[0m in \u001b[0;36m<module>\u001b[1;34m\u001b[0m\n\u001b[1;32m----> 1\u001b[1;33m \u001b[0mthislist\u001b[0m\u001b[1;33m[\u001b[0m\u001b[1;36m1\u001b[0m\u001b[1;33m:\u001b[0m\u001b[1;36m3\u001b[0m\u001b[1;33m]\u001b[0m \u001b[1;33m=\u001b[0m \u001b[1;33m[\u001b[0m\u001b[1;34m\"blackcurrant\"\u001b[0m\u001b[1;33m,\u001b[0m \u001b[1;34m\"watermelon\"\u001b[0m\u001b[1;33m]\u001b[0m\u001b[1;33m\u001b[0m\u001b[1;33m\u001b[0m\u001b[0m\n\u001b[0m\u001b[0;32m      2\u001b[0m \u001b[1;33m\u001b[0m\u001b[0m\n\u001b[0;32m      3\u001b[0m \u001b[0mprint\u001b[0m\u001b[1;33m(\u001b[0m\u001b[0mthislist\u001b[0m\u001b[1;33m)\u001b[0m\u001b[1;33m\u001b[0m\u001b[1;33m\u001b[0m\u001b[0m\n",
      "\u001b[1;31mNameError\u001b[0m: name 'thislist' is not defined"
     ]
    }
   ],
   "source": [
    "\n",
    "thislist[1:3] = [\"blackcurrant\", \"watermelon\"]\n",
    "\n",
    "print(thislist)\n"
   ]
  },
  {
   "cell_type": "code",
   "execution_count": null,
   "id": "6324e18f",
   "metadata": {},
   "outputs": [],
   "source": []
  }
 ],
 "metadata": {
  "kernelspec": {
   "display_name": "Python 3",
   "language": "python",
   "name": "python3"
  },
  "language_info": {
   "codemirror_mode": {
    "name": "ipython",
    "version": 3
   },
   "file_extension": ".py",
   "mimetype": "text/x-python",
   "name": "python",
   "nbconvert_exporter": "python",
   "pygments_lexer": "ipython3",
   "version": "3.8.8"
  }
 },
 "nbformat": 4,
 "nbformat_minor": 5
}

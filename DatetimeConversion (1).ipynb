{
 "cells": [
  {
   "cell_type": "code",
   "execution_count": 11,
   "id": "51063116",
   "metadata": {},
   "outputs": [
    {
     "name": "stdout",
     "output_type": "stream",
     "text": [
      "2021-05-04 12:22:00\n",
      "2021-05-10 12:56:34\n",
      "2021-05-10 12:54:44\n"
     ]
    }
   ],
   "source": [
    "# import datetime module\n",
    "from datetime import datetime\n",
    "\n",
    "# consider date in string format\n",
    "my_date = \"4/5/2021 12:22:00\"\n",
    "\n",
    "# convert datetime string into date,month,day\n",
    "# and hours:minutes:and seconds format using\n",
    "# strptime\n",
    "d = datetime.strptime(my_date, \"%d/%m/%Y %H:%M:%S\")\n",
    "\n",
    "# convert datetime format into %Y-%m-%d-%H:%M:%S\n",
    "# format using strftime\n",
    "print(d.strftime(\"%Y-%m-%d %H:%M:%S\"))\n",
    "\n",
    "# consider date in string format\n",
    "my_date = \"10/5/2021 12:56:34\"\n",
    "\n",
    "# convert datetime string into date,month,day\n",
    "# and hours:minutes:and seconds format using\n",
    "# strptime\n",
    "d = datetime.strptime(my_date, \"%d/%m/%Y %H:%M:%S\")\n",
    "\n",
    "# convert datetime format into %Y-%m-%d-%H:%M:%S\n",
    "# format using strftime\n",
    "print(d.strftime(\"%Y-%m-%d %H:%M:%S\"))\n",
    "\n",
    "# consider date in string format\n",
    "my_date = \"10/5/2021 12:54:44\"\n",
    "\n",
    "# convert datetime string into date,month,day and\n",
    "# hours:minutes:and seconds format using strptime\n",
    "d = datetime.strptime(my_date, \"%d/%m/%Y %H:%M:%S\")\n",
    "\n",
    "# convert datetime format into %Y-%m-%d-%H:%M:%S\n",
    "# format using strftime\n",
    "print(d.strftime(\"%Y-%m-%d %H:%M:%S\"))\n"
   ]
  },
  {
   "cell_type": "code",
   "execution_count": null,
   "id": "4ae566c3",
   "metadata": {},
   "outputs": [],
   "source": []
  }
 ],
 "metadata": {
  "kernelspec": {
   "display_name": "Python 3",
   "language": "python",
   "name": "python3"
  },
  "language_info": {
   "codemirror_mode": {
    "name": "ipython",
    "version": 3
   },
   "file_extension": ".py",
   "mimetype": "text/x-python",
   "name": "python",
   "nbconvert_exporter": "python",
   "pygments_lexer": "ipython3",
   "version": "3.8.8"
  }
 },
 "nbformat": 4,
 "nbformat_minor": 5
}

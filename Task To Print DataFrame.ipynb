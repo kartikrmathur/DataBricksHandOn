{
 "cells": [
  {
   "cell_type": "code",
   "execution_count": 1,
   "id": "d97a829b",
   "metadata": {},
   "outputs": [],
   "source": [
    "from pyspark.sql import SparkSession\n",
    "import pyspark.sql.functions as F\n",
    "import pyspark.sql.types as T\n",
    "from pyspark.sql import Window\n",
    "\n",
    "spark = SparkSession.builder.getOrCreate()"
   ]
  },
  {
   "cell_type": "code",
   "execution_count": 3,
   "id": "3d763b98",
   "metadata": {},
   "outputs": [
    {
     "name": "stdout",
     "output_type": "stream",
     "text": [
      "+----+----+-------+\n",
      "|year|week|channel|\n",
      "+----+----+-------+\n",
      "|2020|   1| Colors|\n",
      "|2020|   2| Colors|\n",
      "|2020|   3| Colors|\n",
      "|2020|   4| Colors|\n",
      "|2020|   5| Colors|\n",
      "|2020|   6| Colors|\n",
      "|2020|   7| Colors|\n",
      "|2020|   8| Colors|\n",
      "+----+----+-------+\n",
      "\n"
     ]
    }
   ],
   "source": [
    "l = [\n",
    "(2020,1,\"Colors\"),\n",
    "(2020,2,\"Colors\"),\n",
    "(2020,3,\"Colors\"),\n",
    "(2020,4,\"Colors\"),\n",
    "(2020,5,\"Colors\"),\n",
    "(2020,6,\"Colors\"),\n",
    "(2020,7,\"Colors\"),\n",
    "(2020,8,\"Colors\"),\n",
    "\n",
    "]\n",
    "\n",
    "data = spark.createDataFrame(l, schema=[\"year\",\"week\",\"channel\"])\n",
    "data.show()"
   ]
  },
  {
   "cell_type": "code",
   "execution_count": null,
   "id": "f2140a08",
   "metadata": {},
   "outputs": [],
   "source": [
    "\n"
   ]
  }
 ],
 "metadata": {
  "kernelspec": {
   "display_name": "Python 3",
   "language": "python",
   "name": "python3"
  },
  "language_info": {
   "codemirror_mode": {
    "name": "ipython",
    "version": 3
   },
   "file_extension": ".py",
   "mimetype": "text/x-python",
   "name": "python",
   "nbconvert_exporter": "python",
   "pygments_lexer": "ipython3",
   "version": "3.8.8"
  }
 },
 "nbformat": 4,
 "nbformat_minor": 5
}

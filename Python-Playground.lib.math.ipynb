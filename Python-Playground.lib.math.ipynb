{
 "cells": [
  {
   "cell_type": "code",
   "execution_count": 1,
   "id": "b8ceb2ba",
   "metadata": {},
   "outputs": [],
   "source": [
    "import math"
   ]
  },
  {
   "cell_type": "code",
   "execution_count": 2,
   "id": "a6a76f5a",
   "metadata": {},
   "outputs": [
    {
     "data": {
      "text/plain": [
       "0.7071067811865476"
      ]
     },
     "execution_count": 2,
     "metadata": {},
     "output_type": "execute_result"
    }
   ],
   "source": [
    "decibel = math.log10 (17.0)\n",
    "angle = 1.5\n",
    "height = math.sin(angle)\n",
    "degrees = 45\n",
    "angle = degrees * 2 * math.pi / 360.0\n",
    "math.sin(angle)"
   ]
  },
  {
   "cell_type": "code",
   "execution_count": 3,
   "id": "ef6c30a9",
   "metadata": {},
   "outputs": [
    {
     "data": {
      "text/plain": [
       "1.4142135623730951"
      ]
     },
     "execution_count": 3,
     "metadata": {},
     "output_type": "execute_result"
    }
   ],
   "source": [
    "math.sqrt(2)"
   ]
  },
  {
   "cell_type": "code",
   "execution_count": 4,
   "id": "a2b932f0",
   "metadata": {},
   "outputs": [],
   "source": [
    "x = math.exp(math.log(10.0))"
   ]
  },
  {
   "cell_type": "code",
   "execution_count": 5,
   "id": "ef5ad456",
   "metadata": {},
   "outputs": [],
   "source": [
    "x = math.cos(angle + math.pi/2)"
   ]
  },
  {
   "cell_type": "code",
   "execution_count": null,
   "id": "fe685ed0",
   "metadata": {},
   "outputs": [],
   "source": []
  }
 ],
 "metadata": {
  "kernelspec": {
   "display_name": "Python 3",
   "language": "python",
   "name": "python3"
  },
  "language_info": {
   "codemirror_mode": {
    "name": "ipython",
    "version": 3
   },
   "file_extension": ".py",
   "mimetype": "text/x-python",
   "name": "python",
   "nbconvert_exporter": "python",
   "pygments_lexer": "ipython3",
   "version": "3.8.8"
  }
 },
 "nbformat": 4,
 "nbformat_minor": 5
}
